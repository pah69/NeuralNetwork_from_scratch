{
  "cells": [
    {
      "cell_type": "code",
      "execution_count": 91,
      "metadata": {
        "id": "ybuxLfIIAmfl",
        "colab": {
          "base_uri": "https://localhost:8080/"
        },
        "outputId": "9c7d483c-e029-49fa-c968-52f860705f8b",
        "collapsed": true
      },
      "outputs": [
        {
          "output_type": "stream",
          "name": "stdout",
          "text": [
            "Drive already mounted at /content/drive; to attempt to forcibly remount, call drive.mount(\"/content/drive\", force_remount=True).\n"
          ]
        }
      ],
      "source": [
        "from google.colab import drive\n",
        "drive.mount('/content/drive')"
      ]
    },
    {
      "cell_type": "code",
      "execution_count": 92,
      "metadata": {
        "id": "LQufmhyXRU2Z"
      },
      "outputs": [],
      "source": [
        "import numpy as np\n",
        "import time\n",
        "import matplotlib.pyplot\n",
        "%matplotlib inline"
      ]
    },
    {
      "cell_type": "code",
      "execution_count": 93,
      "metadata": {
        "id": "XfRN44zQRWNQ"
      },
      "outputs": [],
      "source": [
        "def convert(imgf, labels, outfile, n):\n",
        "    imgf = open(imgf, \"rb\")\n",
        "    csvf = open(outfile, \"w\")\n",
        "    labelf = open(labels, \"rb\")\n",
        "\n",
        "    imgf.read(16)\n",
        "    labelf.read(8)\n",
        "    images = []\n",
        "\n",
        "    for i in range(n):\n",
        "        image = [ord(labelf.read(1))]\n",
        "        for j in range(28*28):\n",
        "            image.append(ord(imgf.read(1)))\n",
        "        images.append(image)\n",
        "\n",
        "    for image in images:\n",
        "        csvf.write(\",\".join(str(pix) for pix in image)+\"\\n\")\n",
        "    imgf.close()\n",
        "    labelf.close()\n",
        "    csvf.close()\n"
      ]
    },
    {
      "cell_type": "code",
      "execution_count": 94,
      "metadata": {
        "id": "385NbLQ1RZd4"
      },
      "outputs": [],
      "source": [
        "mnist_train_x = \"train-images.idx3-ubyte\"\n",
        "mnist_train_y = \"train-labels.idx1-ubyte\"\n",
        "mnist_test_x = \"t10k-images.idx3-ubyte\"\n",
        "mnist_test_y = \"t10k-labels.idx1-ubyte\""
      ]
    },
    {
      "cell_type": "code",
      "execution_count": 95,
      "metadata": {
        "id": "kt_3XI79S1zB"
      },
      "outputs": [],
      "source": [
        "convert(mnist_train_x, mnist_train_y, \"mnist_train.csv\", 60000)\n",
        "convert(mnist_test_x, mnist_test_y, \"mnist_test.csv\", 10000)"
      ]
    },
    {
      "cell_type": "code",
      "execution_count": 96,
      "metadata": {
        "id": "8KDfhUA8WYWT"
      },
      "outputs": [],
      "source": [
        "train_file = open(\"mnist_train.csv\", 'r')\n",
        "train_list = train_file.readlines()\n",
        "train_file.close()"
      ]
    },
    {
      "cell_type": "code",
      "execution_count": 97,
      "metadata": {
        "colab": {
          "base_uri": "https://localhost:8080/"
        },
        "id": "_AIx9y6wWeFh",
        "outputId": "36318079-f836-49a4-ec33-dce8eeac271f"
      },
      "outputs": [
        {
          "output_type": "execute_result",
          "data": {
            "text/plain": [
              "60000"
            ]
          },
          "metadata": {},
          "execution_count": 97
        }
      ],
      "source": [
        "len(train_list)"
      ]
    },
    {
      "cell_type": "code",
      "execution_count": 98,
      "metadata": {
        "id": "Zai0iH5uWgcZ"
      },
      "outputs": [],
      "source": [
        "#train_list[15]"
      ]
    },
    {
      "cell_type": "code",
      "execution_count": 99,
      "metadata": {
        "colab": {
          "base_uri": "https://localhost:8080/",
          "height": 447
        },
        "id": "6EPoH0qhWjhR",
        "outputId": "c9096fb6-32c2-46e5-eafe-4c0a5217c068"
      },
      "outputs": [
        {
          "output_type": "execute_result",
          "data": {
            "text/plain": [
              "<matplotlib.image.AxesImage at 0x7eb0e199a7d0>"
            ]
          },
          "metadata": {},
          "execution_count": 99
        },
        {
          "output_type": "display_data",
          "data": {
            "text/plain": [
              "<Figure size 640x480 with 1 Axes>"
            ],
            "image/png": "[encoded data removed]"
          },
          "metadata": {}
        }
      ],
      "source": [
        "# reshape ve 28x28 va plot thanh 1 anh\n",
        "all_values = train_list[15].split(',')\n",
        "image_array = np.asfarray(all_values[1:]).reshape((28,28))\n",
        "matplotlib.pyplot.imshow(image_array, cmap='Greys', interpolation='None')"
      ]
    },
    {
      "cell_type": "code",
      "execution_count": 100,
      "metadata": {
        "collapsed": true,
        "id": "k_1jFI5mXMQ0"
      },
      "outputs": [],
      "source": [
        "\n",
        "# scale input to range 0.01 to 1.00\n",
        "#scaled_input_train = (np.asfarray(all_values[1:]) / 255.0 * 0.99) + 0.01\n",
        "# print(scaled_input_train)"
      ]
    },
    {
      "cell_type": "code",
      "execution_count": 101,
      "metadata": {
        "id": "in48_oijX2yp"
      },
      "outputs": [],
      "source": [
        "test_file = open(\"mnist_test.csv\", 'r')\n",
        "test_list = test_file.readlines()\n",
        "test_file.close()"
      ]
    },
    {
      "cell_type": "code",
      "execution_count": 102,
      "metadata": {
        "colab": {
          "base_uri": "https://localhost:8080/",
          "height": 447
        },
        "id": "n_SPoj_ZX9XR",
        "outputId": "d64232a3-a988-40c7-e56f-aad7d5c1d151"
      },
      "outputs": [
        {
          "output_type": "execute_result",
          "data": {
            "text/plain": [
              "<matplotlib.image.AxesImage at 0x7eb0e0ae1780>"
            ]
          },
          "metadata": {},
          "execution_count": 102
        },
        {
          "output_type": "display_data",
          "data": {
            "text/plain": [
              "<Figure size 640x480 with 1 Axes>"
            ],
            "image/png": "[encoded data removed]"
          },
          "metadata": {}
        }
      ],
      "source": [
        "all_values = test_list[19].split(',')\n",
        "image_array = np.asfarray(all_values[1:]).reshape((28,28))\n",
        "matplotlib.pyplot.imshow(image_array, cmap='Greys', interpolation='None')"
      ]
    },
    {
      "cell_type": "code",
      "execution_count": 103,
      "metadata": {
        "id": "p1AiIaeiYFCZ"
      },
      "outputs": [],
      "source": [
        "class my_NeuralNetwork:\n",
        "  def __init__(self, sizes, epochs, lr):\n",
        "    self.sizes = sizes\n",
        "    self.epochs = epochs\n",
        "    self.lr = lr\n",
        "\n",
        "    # number of nodes in each layer\n",
        "    input_layer=self.sizes[0]\n",
        "    hidden_1=self.sizes[1]\n",
        "    hidden_2=self.sizes[2]\n",
        "    hidden_3=self.sizes[3]\n",
        "    output_layer=self.sizes[4]\n",
        "\n",
        "    self.params =   {\n",
        "    'W1': np.random.randn(hidden_1, input_layer) * np.sqrt(2. / input_layer),\n",
        "    'W2': np.random.randn(hidden_2, hidden_1) * np.sqrt(2. / hidden_1),\n",
        "    'W3': np.random.randn(hidden_3, hidden_2) * np.sqrt(2. / hidden_2),\n",
        "    'W4':np.random.randn(output_layer,hidden_3) * np.sqrt(1. / hidden_3)\n",
        "      }\n",
        "\n",
        "  # ReLu activation\n",
        "  def relu(self, x, derivative=False):\n",
        "       if derivative:\n",
        "          return np.where(x > 0, 1, 0)\n",
        "       return np.maximum(0, x)\n",
        "\n",
        "  # Softmax activation\n",
        "  def softmax(self, x, derivative=False):\n",
        "      # Numerically stable with large exponentials\n",
        "      exps = np.exp(x - x.max())\n",
        "      if derivative:\n",
        "          return exps / np.sum(exps, axis=0) * (1 - exps / np.sum(exps, axis=0))\n",
        "      return exps / np.sum(exps, axis=0)\n",
        "\n",
        "      # Forward propagation\n",
        "  def forward_pass(self, x_train):\n",
        "      params = self.params\n",
        "\n",
        "      # input layer activations becomes sample\n",
        "      params['A0'] = x_train\n",
        "\n",
        "      # input layer to hidden layer 1\n",
        "      params['Z1'] = np.dot(params[\"W1\"], params['A0'])\n",
        "      params['A1'] = self.relu(params['Z1'])\n",
        "\n",
        "      # hidden layer 1 to hidden layer 2\n",
        "      params['Z2'] = np.dot(params[\"W2\"], params['A1'])\n",
        "      params['A2'] = self.relu(params['Z2'])\n",
        "\n",
        "      # hidden layer 2 to hidden 3\n",
        "      params['Z3'] = np.dot(params[\"W3\"], params['A2'])\n",
        "      params['A3'] = self.relu(params['Z3'])\n",
        "\n",
        "      # hidden 3 to output layer\n",
        "      params['Z4'] = np.dot(params[\"W4\"], params['A3'])\n",
        "      params['A4'] = self.softmax(params['Z4'])\n",
        "\n",
        "      # Output result\n",
        "      return params['A4']\n",
        "\n",
        "      # Back propagation\n",
        "  def backward_pass(self, y_train, output):\n",
        "\n",
        "      params = self.params\n",
        "      change_w = {}\n",
        "\n",
        "      # W4 update\n",
        "      error = 2 * (output - y_train) / output.shape[0] * self.softmax(params['Z4'], derivative=True)\n",
        "      change_w['W4'] = np.outer(error, params['A3'])\n",
        "\n",
        "      # Calculate W3 update\n",
        "      error = np.dot(params['W4'].T, error) * self.relu(params['Z3'], derivative=True)\n",
        "      change_w['W3'] = np.outer(error, params['A2'])\n",
        "\n",
        "      # Calculate W2 update\n",
        "      error = np.dot(params['W3'].T, error) * self.relu(params['Z2'], derivative=True)\n",
        "      change_w['W2'] = np.outer(error, params['A1'])\n",
        "\n",
        "      # Calculate W1 update\n",
        "      error = np.dot(params['W2'].T, error) * self.relu(params['Z1'], derivative=True)\n",
        "      change_w['W1'] = np.outer(error, params['A0'])\n",
        "\n",
        "      return change_w\n",
        "\n",
        "  def update_network_parameters(self, changes_to_w):\n",
        "\n",
        "          #Update network parameters according to update rule from\n",
        "          # Stochastic Gradient Descent.\n",
        "      for key, value in changes_to_w.items():\n",
        "          self.params[key] -= self.lr * value\n",
        "\n",
        "  def compute_accuracy(self, data_list, output_nodes):\n",
        "      '''\n",
        "          This function does a forward pass of x, then checks if the indices\n",
        "          of the maximum value in the output equals the indices in the label\n",
        "          y. Then it sums over each prediction and calculates the accuracy.\n",
        "      '''\n",
        "      predictions = []\n",
        "\n",
        "      for x in data_list:\n",
        "            all_values = x.split(',')\n",
        "            inputs = (np.asfarray(all_values[1:]) / 255.0 * 0.99) + 0.01\n",
        "            targets = np.zeros(output_nodes) + 0.01\n",
        "            targets[int(all_values[0])] = 0.99\n",
        "\n",
        "            output = self.forward_pass(inputs)\n",
        "            pred = np.argmax(output)\n",
        "            predictions.append(pred == np.argmax(targets))\n",
        "      return np.mean(predictions)\n",
        "\n",
        "  def train(self, train_list, validation_list, output_nodes):\n",
        "        start_time = time.time()\n",
        "        batch_size = 32\n",
        "        # Split train_list into training and validation sets\n",
        "        split_ratio = 0.1\n",
        "        split_index = int(len(train_list) * split_ratio)\n",
        "        training_data = train_list[:split_index]\n",
        "        validation_data = train_list[split_index:]\n",
        "        for epoch in range(self.epochs):\n",
        "            batch_start = 0\n",
        "            np.random.shuffle(train_list)\n",
        "            while batch_start < len(train_list):\n",
        "                  batch_end = batch_start + batch_size\n",
        "                  batch = train_list[batch_start:batch_end]\n",
        "\n",
        "                  for record in batch:\n",
        "                      all_values = record.split(',')\n",
        "                      inputs = (np.asfarray(all_values[1:]) / 255.0 * 0.99) + 0.01\n",
        "                      targets = np.zeros(output_nodes) + 0.01\n",
        "                      targets[int(all_values[0])] = 0.99\n",
        "\n",
        "                      output = self.forward_pass(inputs)\n",
        "                      changes_to_w = self.backward_pass(targets, output)\n",
        "                      self.update_network_parameters(changes_to_w)\n",
        "\n",
        "                  batch_start = batch_end\n",
        "\n",
        "            train_accuracy = self.compute_accuracy(training_data, output_nodes)\n",
        "            validation_accuracy = self.compute_accuracy(validation_data, output_nodes)\n",
        "            test_accuracy = self.compute_accuracy(test_list, output_nodes)\n",
        "\n",
        "            print(f\"Epoch: {epoch+1}, Time Spent: {time.time() - start_time:.2f}s,  Train Accuracy: {train_accuracy * 100:.2f}%, Validation Accuracy: {validation_accuracy* 100:.2f}%\")\n",
        "            print('Test Accuracy: {0:.2f}%'.format(test_accuracy * 100))  # Evaluate on test set after training\n",
        "\n"
      ]
    },
    {
      "cell_type": "code",
      "execution_count": null,
      "metadata": {
        "colab": {
          "base_uri": "https://localhost:8080/"
        },
        "id": "zaKB6JsxHkgB",
        "collapsed": true,
        "outputId": "1f2fed65-d0f2-43af-9b16-74fa7a903a26"
      },
      "outputs": [
        {
          "output_type": "stream",
          "name": "stdout",
          "text": [
            "Epoch: 1, Time Spent: 169.32s,  Train Accuracy: 70.40%, Validation Accuracy: 69.34%\n",
            "Test Accuracy: 70.43%\n",
            "Epoch: 2, Time Spent: 337.65s,  Train Accuracy: 80.25%, Validation Accuracy: 78.95%\n",
            "Test Accuracy: 79.60%\n"
          ]
        }
      ],
      "source": [
        "# Initialize and train the model\n",
        "mNN = my_NeuralNetwork(sizes=[784, 256, 256, 256, 10], epochs=10, lr=0.001)\n",
        "mNN.train(train_list, validation_list=None, output_nodes=10)"
      ]
    }
  ],
  "metadata": {
    "accelerator": "GPU",
    "colab": {
      "gpuType": "T4",
      "provenance": []
    },
    "kernelspec": {
      "display_name": "Python 3",
      "name": "python3"
    },
    "language_info": {
      "name": "python"
    }
  },
  "nbformat": 4,
  "nbformat_minor": 0
}